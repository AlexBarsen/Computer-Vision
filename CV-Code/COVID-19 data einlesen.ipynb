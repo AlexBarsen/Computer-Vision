{
 "cells": [
  {
   "cell_type": "code",
   "execution_count": 3,
   "metadata": {},
   "outputs": [],
   "source": [
    "import numpy as np\n",
    "import pandas as pd\n",
    "import cv2\n",
    "import matplotlib.pyplot as plt\n",
    "import os"
   ]
  },
  {
   "cell_type": "code",
   "execution_count": 4,
   "metadata": {},
   "outputs": [],
   "source": [
    "covid_path = './COVID-19 Radiography Database/COVID-19'\n",
    "normal_path = './COVID-19 Radiography Database/NORMAL'\n",
    "pneumonia_path = './COVID-19 Radiography Database/Viral Pneumonia'"
   ]
  },
  {
   "cell_type": "code",
   "execution_count": 5,
   "metadata": {},
   "outputs": [],
   "source": [
    "# creating separate folders for training and test data since we are going to split it 90% training /10% test data \n",
    "os.mkdir('./COVID-19 Radiography Database/train')\n",
    "os.mkdir('./COVID-19 Radiography Database/test')\n",
    "\n",
    "os.mkdir('./COVID-19 Radiography Database/train/covid')\n",
    "os.mkdir('./COVID-19 Radiography Database/test/covid')\n",
    "\n",
    "os.mkdir('./COVID-19 Radiography Database/train/normal')\n",
    "os.mkdir('./COVID-19 Radiography Database/test/normal')\n",
    "\n",
    "os.mkdir('./COVID-19 Radiography Database/train/pneumonia')\n",
    "os.mkdir('./COVID-19 Radiography Database/test/pneumonia')"
   ]
  },
  {
   "cell_type": "code",
   "execution_count": 6,
   "metadata": {
    "scrolled": true
   },
   "outputs": [
    {
     "name": "stdout",
     "output_type": "stream",
     "text": [
      "197 219\n",
      "1206 1341\n",
      "1210 1345\n"
     ]
    }
   ],
   "source": [
    "covid_train_len = int(np.floor(len(os.listdir(covid_path))*0.9))\n",
    "covid_len = len(os.listdir(covid_path))\n",
    "print(covid_train_len, covid_len)\n",
    "\n",
    "normal_train_len = int(np.floor(len(os.listdir(normal_path))*0.9))\n",
    "normal_len = len(os.listdir(normal_path))\n",
    "print(normal_train_len, normal_len)\n",
    "\n",
    "pneumonia_train_len = int(np.floor(len(os.listdir(pneumonia_path))*0.9))\n",
    "pneumonia_len = len(os.listdir(pneumonia_path))\n",
    "print(pneumonia_train_len, pneumonia_len)"
   ]
  },
  {
   "cell_type": "code",
   "execution_count": 7,
   "metadata": {},
   "outputs": [],
   "source": [
    "import glob\n",
    "import shutil\n",
    "import itertools"
   ]
  },
  {
   "cell_type": "code",
   "execution_count": 8,
   "metadata": {},
   "outputs": [],
   "source": [
    "#Copying COVID-19 train data (90%)\n",
    "src_dir = './COVID-19 Radiography Database/COVID-19'\n",
    "dst_dir = './COVID-19 Radiography Database/train/covid'\n",
    "for imgtrain in itertools.islice(glob.iglob(os.path.join(src_dir, \"*.png\")), covid_train_len):\n",
    "    shutil.copy(imgtrain, dst_dir)"
   ]
  },
  {
   "cell_type": "code",
   "execution_count": 9,
   "metadata": {},
   "outputs": [],
   "source": [
    "#Copying NORMAL train data (90%)\n",
    "src_dir = './COVID-19 Radiography Database/NORMAL'\n",
    "dst_dir = './COVID-19 Radiography Database/train/normal'\n",
    "for imgtrain in itertools.islice(glob.iglob(os.path.join(src_dir, \"*.png\")), normal_train_len):\n",
    "    shutil.copy(imgtrain, dst_dir)"
   ]
  },
  {
   "cell_type": "code",
   "execution_count": 10,
   "metadata": {},
   "outputs": [],
   "source": [
    "#Copying VIRAL PNEUMONIA train data (90%)\n",
    "src_dir = './COVID-19 Radiography Database/Viral Pneumonia'\n",
    "dst_dir = './COVID-19 Radiography Database/train/pneumonia'\n",
    "for imgtrain in itertools.islice(glob.iglob(os.path.join(src_dir, \"*.png\")), pneumonia_train_len):\n",
    "    shutil.copy(imgtrain, dst_dir)"
   ]
  },
  {
   "cell_type": "code",
   "execution_count": 11,
   "metadata": {},
   "outputs": [],
   "source": [
    "#Copying COVID-19 test data (the other 10%)\n",
    "src_dir = './COVID-19 Radiography Database/COVID-19'\n",
    "dst_dir = './COVID-19 Radiography Database/test/covid'\n",
    "for imgtrain in itertools.islice(glob.iglob(os.path.join(src_dir, \"*.png\")), covid_train_len, covid_len):\n",
    "    shutil.copy(imgtrain, dst_dir)"
   ]
  },
  {
   "cell_type": "code",
   "execution_count": 12,
   "metadata": {},
   "outputs": [],
   "source": [
    "#Copying NORMAL test data (the other 10%)\n",
    "src_dir = './COVID-19 Radiography Database/NORMAL'\n",
    "dst_dir = './COVID-19 Radiography Database/test/normal'\n",
    "for imgtrain in itertools.islice(glob.iglob(os.path.join(src_dir, \"*.png\")), normal_train_len, normal_len):\n",
    "    shutil.copy(imgtrain, dst_dir)"
   ]
  },
  {
   "cell_type": "code",
   "execution_count": 13,
   "metadata": {},
   "outputs": [],
   "source": [
    "#Copying VIRAL PNEUMONIA test data (the other 10%)\n",
    "src_dir = './COVID-19 Radiography Database/Viral Pneumonia'\n",
    "dst_dir = './COVID-19 Radiography Database/test/pneumonia'\n",
    "for imgtrain in itertools.islice(glob.iglob(os.path.join(src_dir, \"*.png\")), pneumonia_train_len, pneumonia_len):\n",
    "    shutil.copy(imgtrain, dst_dir)"
   ]
  },
  {
   "cell_type": "code",
   "execution_count": 14,
   "metadata": {},
   "outputs": [],
   "source": [
    "#TRAINING DATA\n",
    "DATADIR = './COVID-19 Radiography Database/train'\n",
    "CATEGORIES = ['covid', 'normal', 'pneumonia']\n",
    "IMG_SIZE = 250\n",
    "\n",
    "training_data = []\n",
    "\n",
    "for category in CATEGORIES:\n",
    "    path = os.path.join(DATADIR, category)\n",
    "    class_num = CATEGORIES.index(category)\n",
    "    for img in os.listdir(path):\n",
    "        img_array = cv2.imread(os.path.join(path, img), cv2.IMREAD_GRAYSCALE)\n",
    "        new_array = cv2.resize(img_array, (IMG_SIZE, IMG_SIZE))\n",
    "        training_data.append([new_array, class_num])\n",
    "\n",
    "#TEST DATA\n",
    "DATADIR = './COVID-19 Radiography Database/test'\n",
    "CATEGORIES = ['covid', 'normal', 'pneumonia']\n",
    "\n",
    "test_data = []\n",
    "\n",
    "for category in CATEGORIES:\n",
    "    path = os.path.join(DATADIR, category)\n",
    "    class_num = CATEGORIES.index(category)\n",
    "    for img in os.listdir(path):\n",
    "        img_array = cv2.imread(os.path.join(path, img), cv2.IMREAD_GRAYSCALE)\n",
    "        new_array = cv2.resize(img_array, (IMG_SIZE, IMG_SIZE))\n",
    "        test_data.append([new_array, class_num])"
   ]
  },
  {
   "cell_type": "code",
   "execution_count": 15,
   "metadata": {},
   "outputs": [
    {
     "name": "stdout",
     "output_type": "stream",
     "text": [
      "2613\n",
      "292\n"
     ]
    }
   ],
   "source": [
    "print(len(training_data))\n",
    "print(len(test_data))"
   ]
  },
  {
   "cell_type": "code",
   "execution_count": 16,
   "metadata": {},
   "outputs": [],
   "source": [
    "#Shuffle traning data since they are all in order at the moment\n",
    "import random\n",
    "\n",
    "random.shuffle(training_data)\n",
    "random.shuffle(test_data)\n"
   ]
  },
  {
   "cell_type": "code",
   "execution_count": 27,
   "metadata": {},
   "outputs": [],
   "source": [
    "train_X = []\n",
    "train_y = []\n",
    "\n",
    "test_X = []\n",
    "test_y = []\n",
    "\n",
    "for features,label in training_data:\n",
    "    train_X.append(features)\n",
    "    train_y.append(label)\n",
    "\n",
    "for features,label in test_data:\n",
    "    test_X.append(features)\n",
    "    test_y.append(label)\n",
    "    \n",
    "train_X = np.array(train_X).reshape(-1, IMG_SIZE, IMG_SIZE, 1)\n",
    "test_X = np.array(test_X).reshape(-1, IMG_SIZE, IMG_SIZE, 1)"
   ]
  },
  {
   "cell_type": "code",
   "execution_count": 28,
   "metadata": {
    "scrolled": true
   },
   "outputs": [
    {
     "name": "stdout",
     "output_type": "stream",
     "text": [
      "(2613, 250, 250, 1)\n",
      "[[[121]\n",
      "  [117]\n",
      "  [114]\n",
      "  ...\n",
      "  [164]\n",
      "  [ 66]\n",
      "  [173]]\n",
      "\n",
      " [[117]\n",
      "  [121]\n",
      "  [123]\n",
      "  ...\n",
      "  [181]\n",
      "  [179]\n",
      "  [180]]\n",
      "\n",
      " [[120]\n",
      "  [122]\n",
      "  [117]\n",
      "  ...\n",
      "  [184]\n",
      "  [182]\n",
      "  [178]]\n",
      "\n",
      " ...\n",
      "\n",
      " [[  0]\n",
      "  [  0]\n",
      "  [  1]\n",
      "  ...\n",
      "  [  0]\n",
      "  [  0]\n",
      "  [  0]]\n",
      "\n",
      " [[  0]\n",
      "  [  0]\n",
      "  [  0]\n",
      "  ...\n",
      "  [  0]\n",
      "  [  0]\n",
      "  [  0]]\n",
      "\n",
      " [[  0]\n",
      "  [  0]\n",
      "  [  0]\n",
      "  ...\n",
      "  [  0]\n",
      "  [  0]\n",
      "  [  0]]] 2\n"
     ]
    }
   ],
   "source": [
    "print(train_X.shape)\n",
    "print(train_X[0], train_y[0])"
   ]
  },
  {
   "cell_type": "code",
   "execution_count": 29,
   "metadata": {},
   "outputs": [
    {
     "name": "stdout",
     "output_type": "stream",
     "text": [
      "(292, 250, 250, 1)\n",
      "[[[73]\n",
      "  [81]\n",
      "  [79]\n",
      "  ...\n",
      "  [69]\n",
      "  [65]\n",
      "  [61]]\n",
      "\n",
      " [[72]\n",
      "  [78]\n",
      "  [77]\n",
      "  ...\n",
      "  [69]\n",
      "  [64]\n",
      "  [60]]\n",
      "\n",
      " [[71]\n",
      "  [77]\n",
      "  [79]\n",
      "  ...\n",
      "  [72]\n",
      "  [66]\n",
      "  [60]]\n",
      "\n",
      " ...\n",
      "\n",
      " [[ 0]\n",
      "  [ 0]\n",
      "  [ 0]\n",
      "  ...\n",
      "  [ 0]\n",
      "  [ 0]\n",
      "  [ 0]]\n",
      "\n",
      " [[ 0]\n",
      "  [ 0]\n",
      "  [ 0]\n",
      "  ...\n",
      "  [ 0]\n",
      "  [ 0]\n",
      "  [ 0]]\n",
      "\n",
      " [[ 0]\n",
      "  [ 0]\n",
      "  [ 0]\n",
      "  ...\n",
      "  [ 0]\n",
      "  [ 0]\n",
      "  [ 0]]] 1\n"
     ]
    }
   ],
   "source": [
    "print(test_X.shape)\n",
    "print(test_X[0], test_y[0])"
   ]
  },
  {
   "cell_type": "code",
   "execution_count": null,
   "metadata": {},
   "outputs": [],
   "source": []
  }
 ],
 "metadata": {
  "kernelspec": {
   "display_name": "Python 3",
   "language": "python",
   "name": "python3"
  },
  "language_info": {
   "codemirror_mode": {
    "name": "ipython",
    "version": 3
   },
   "file_extension": ".py",
   "mimetype": "text/x-python",
   "name": "python",
   "nbconvert_exporter": "python",
   "pygments_lexer": "ipython3",
   "version": "3.8.5"
  }
 },
 "nbformat": 4,
 "nbformat_minor": 4
}
